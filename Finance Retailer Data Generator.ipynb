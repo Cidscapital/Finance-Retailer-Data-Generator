{
 "cells": [
  {
   "cell_type": "code",
   "execution_count": 11,
   "id": "ca946b45",
   "metadata": {},
   "outputs": [],
   "source": [
    "import pandas as pd\n",
    "import numpy as np\n",
    "import random\n",
    "import datetime"
   ]
  },
  {
   "cell_type": "code",
   "execution_count": 12,
   "id": "ea8a0623",
   "metadata": {},
   "outputs": [],
   "source": [
    "# Set random seed for reproducibility\n",
    "np.random.seed(0)\n",
    "random.seed(0)"
   ]
  },
  {
   "cell_type": "code",
   "execution_count": 13,
   "id": "4edfa5b5",
   "metadata": {},
   "outputs": [],
   "source": [
    "# Generate synthetic customer data\n",
    "def generate_customer_data(num_customers):\n",
    "    customers = []\n",
    "    for i in range(num_customers):\n",
    "        customer_id = f\"C{1000 + i}\"\n",
    "        age = np.random.randint(18, 80)\n",
    "        gender = np.random.choice(['Male', 'Female'])\n",
    "        income = np.random.randint(20000, 150000)\n",
    "        education = np.random.choice(['High School', 'College', 'Graduate'])\n",
    "        employment_status = np.random.choice(['Employed', 'Unemployed', 'Self-Employed'])\n",
    "        marital_status = np.random.choice(['Single', 'Married', 'Divorced', 'Widowed'])\n",
    "        children = np.random.randint(0, 5)\n",
    "        account_balance = np.random.uniform(100, 10000)\n",
    "        loan_amount = np.random.uniform(0, 5000)\n",
    "        loan_status = np.random.choice(['Approved', 'Pending', 'Rejected'])\n",
    "        \n",
    "        customers.append([customer_id, age, gender, income, education, employment_status,\n",
    "                          marital_status, children, account_balance, loan_amount, loan_status])\n",
    "    \n",
    "    columns = ['Customer_ID', 'Age', 'Gender', 'Income', 'Education', 'Employment_Status',\n",
    "               'Marital_Status', 'Children', 'Account_Balance', 'Loan_Amount', 'Loan_Status']\n",
    "    \n",
    "    return pd.DataFrame(customers, columns=columns)"
   ]
  },
  {
   "cell_type": "code",
   "execution_count": 14,
   "id": "b6bc3faf",
   "metadata": {},
   "outputs": [],
   "source": [
    "# Generate synthetic transaction data\n",
    "def generate_transaction_data(num_transactions, start_date, end_date):\n",
    "    transactions = []\n",
    "    for i in range(num_transactions):\n",
    "        transaction_id = f\"T{1000 + i}\"\n",
    "        customer_id = f\"C{np.random.randint(1000, 1100)}\"\n",
    "        transaction_date = np.random.choice(pd.date_range(start_date, end_date))\n",
    "        transaction_amount = np.random.uniform(1, 1000)\n",
    "        transaction_type = np.random.choice(['Purchase', 'Withdrawal', 'Deposit'])\n",
    "        \n",
    "        transactions.append([transaction_id, customer_id, transaction_date,\n",
    "                             transaction_amount, transaction_type])\n",
    "    \n",
    "    columns = ['Transaction_ID', 'Customer_ID', 'Transaction_Date',\n",
    "               'Transaction_Amount', 'Transaction_Type']\n",
    "    \n",
    "    return pd.DataFrame(transactions, columns=columns)"
   ]
  },
  {
   "cell_type": "code",
   "execution_count": 15,
   "id": "29957188",
   "metadata": {},
   "outputs": [],
   "source": [
    "# Generate synthetic loan data\n",
    "def generate_loan_data(num_loans):\n",
    "    loans = []\n",
    "    for i in range(num_loans):\n",
    "        loan_id = f\"L{1000 + i}\"\n",
    "        customer_id = f\"C{np.random.randint(1000, 1100)}\"\n",
    "        loan_amount = np.random.uniform(1000, 50000)\n",
    "        loan_duration = np.random.randint(12, 60)\n",
    "        interest_rate = np.random.uniform(5, 15)\n",
    "        loan_purpose = np.random.choice(['Home Improvement', 'Debt Consolidation', 'Education', 'Medical', 'Other'])\n",
    "        \n",
    "        loans.append([loan_id, customer_id, loan_amount, loan_duration,\n",
    "                      interest_rate, loan_purpose])\n",
    "    \n",
    "    columns = ['Loan_ID', 'Customer_ID', 'Loan_Amount', 'Loan_Duration',\n",
    "               'Interest_Rate', 'Loan_Purpose']\n",
    "    \n",
    "    return pd.DataFrame(loans, columns=columns)"
   ]
  },
  {
   "cell_type": "code",
   "execution_count": 16,
   "id": "4ea14999",
   "metadata": {},
   "outputs": [],
   "source": [
    "# Generate synthetic data for the retail financial institution\n",
    "num_customers = 100\n",
    "num_transactions = 1000\n",
    "num_loans = 50\n",
    "start_date = datetime.date(2022, 1, 1)\n",
    "end_date = datetime.date(2022, 12, 31)"
   ]
  },
  {
   "cell_type": "code",
   "execution_count": 17,
   "id": "520a5e9e",
   "metadata": {},
   "outputs": [],
   "source": [
    "customer_data = generate_customer_data(num_customers)\n",
    "transaction_data = generate_transaction_data(num_transactions, start_date, end_date)\n",
    "loan_data = generate_loan_data(num_loans)"
   ]
  },
  {
   "cell_type": "code",
   "execution_count": 18,
   "id": "55e8f507",
   "metadata": {},
   "outputs": [],
   "source": [
    "# Save synthetic data to CSV files\n",
    "customer_data.to_csv('customer_data.csv', index=False)\n",
    "transaction_data.to_csv('transaction_data.csv', index=False)\n",
    "loan_data.to_csv('loan_data.csv', index=False)"
   ]
  },
  {
   "cell_type": "code",
   "execution_count": 19,
   "id": "9e1fe96f",
   "metadata": {},
   "outputs": [
    {
     "name": "stdout",
     "output_type": "stream",
     "text": [
      "Sample Customer Data:\n",
      "  Customer_ID  Age  Gender  Income    Education Employment_Status  \\\n",
      "0       C1000   62  Female   62613  High School        Unemployed   \n",
      "1       C1001   30    Male   37089     Graduate     Self-Employed   \n",
      "2       C1002   38  Female   90608      College     Self-Employed   \n",
      "3       C1003   37  Female  100782  High School        Unemployed   \n",
      "4       C1004   41  Female  116766     Graduate          Employed   \n",
      "\n",
      "  Marital_Status  Children  Account_Balance  Loan_Amount Loan_Status  \n",
      "0        Widowed         2      4432.113392  4458.865004    Approved  \n",
      "1         Single         1      9263.406719   355.180291     Pending  \n",
      "2        Widowed         0      9788.321588  3995.792821     Pending  \n",
      "3        Married         1      9452.222279  2609.241609    Approved  \n",
      "4       Divorced         0       286.019024  3088.177485    Rejected  \n",
      "\n",
      "Sample Transaction Data:\n",
      "  Transaction_ID Customer_ID Transaction_Date  Transaction_Amount  \\\n",
      "0          T1000       C1035       2022-06-30          889.398029   \n",
      "1          T1001       C1051       2022-07-03          404.839374   \n",
      "2          T1002       C1055       2022-03-30          355.869973   \n",
      "3          T1003       C1068       2022-04-28          842.934086   \n",
      "4          T1004       C1093       2022-04-13          308.068741   \n",
      "\n",
      "  Transaction_Type  \n",
      "0          Deposit  \n",
      "1       Withdrawal  \n",
      "2         Purchase  \n",
      "3       Withdrawal  \n",
      "4          Deposit  \n",
      "\n",
      "Sample Loan Data:\n",
      "  Loan_ID Customer_ID   Loan_Amount  Loan_Duration  Interest_Rate  \\\n",
      "0   L1000       C1074  24286.678593             50       9.363675   \n",
      "1   L1001       C1061  11535.572273             25       8.255276   \n",
      "2   L1002       C1007   5575.820785             18      11.359029   \n",
      "3   L1003       C1010  18160.863375             52      11.639812   \n",
      "4   L1004       C1031   9276.960075             47      10.935998   \n",
      "\n",
      "         Loan_Purpose  \n",
      "0             Medical  \n",
      "1  Debt Consolidation  \n",
      "2           Education  \n",
      "3           Education  \n",
      "4  Debt Consolidation  \n"
     ]
    }
   ],
   "source": [
    "# Display sample data\n",
    "print(\"Sample Customer Data:\")\n",
    "print(customer_data.head())\n",
    "print(\"\\nSample Transaction Data:\")\n",
    "print(transaction_data.head())\n",
    "print(\"\\nSample Loan Data:\")\n",
    "print(loan_data.head())"
   ]
  },
  {
   "cell_type": "code",
   "execution_count": null,
   "id": "65c2107f",
   "metadata": {},
   "outputs": [],
   "source": []
  }
 ],
 "metadata": {
  "kernelspec": {
   "display_name": "Python 3 (ipykernel)",
   "language": "python",
   "name": "python3"
  },
  "language_info": {
   "codemirror_mode": {
    "name": "ipython",
    "version": 3
   },
   "file_extension": ".py",
   "mimetype": "text/x-python",
   "name": "python",
   "nbconvert_exporter": "python",
   "pygments_lexer": "ipython3",
   "version": "3.11.5"
  }
 },
 "nbformat": 4,
 "nbformat_minor": 5
}
